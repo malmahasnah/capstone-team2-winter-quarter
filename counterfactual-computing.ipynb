{
 "cells": [
  {
   "cell_type": "code",
   "execution_count": 1,
   "metadata": {},
   "outputs": [
    {
     "name": "stdout",
     "output_type": "stream",
     "text": [
      "Collecting dowhy\n",
      "  Downloading dowhy-0.12-py3-none-any.whl.metadata (18 kB)\n",
      "Requirement already satisfied: causal-learn>=0.1.3.0 in /Library/Frameworks/Python.framework/Versions/3.9/lib/python3.9/site-packages (from dowhy) (0.1.3.8)\n",
      "Collecting cvxpy>=1.2.2 (from dowhy)\n",
      "  Downloading cvxpy-1.6.0-cp39-cp39-macosx_10_9_universal2.whl.metadata (9.2 kB)\n",
      "Collecting cython<3.0 (from dowhy)\n",
      "  Downloading Cython-0.29.37-py2.py3-none-any.whl.metadata (3.1 kB)\n",
      "Requirement already satisfied: joblib>=1.1.0 in /Library/Frameworks/Python.framework/Versions/3.9/lib/python3.9/site-packages (from dowhy) (1.4.2)\n",
      "Requirement already satisfied: networkx>=2.8.5 in /Library/Frameworks/Python.framework/Versions/3.9/lib/python3.9/site-packages (from dowhy) (3.2.1)\n",
      "Requirement already satisfied: numba>=0.59 in /Library/Frameworks/Python.framework/Versions/3.9/lib/python3.9/site-packages (from dowhy) (0.59.1)\n",
      "Requirement already satisfied: numpy>1.0 in /Library/Frameworks/Python.framework/Versions/3.9/lib/python3.9/site-packages (from dowhy) (1.26.4)\n",
      "Requirement already satisfied: pandas>1.0 in /Library/Frameworks/Python.framework/Versions/3.9/lib/python3.9/site-packages (from dowhy) (2.2.2)\n",
      "Requirement already satisfied: scikit-learn>1.0 in /Library/Frameworks/Python.framework/Versions/3.9/lib/python3.9/site-packages (from dowhy) (1.5.0)\n",
      "Requirement already satisfied: scipy>=1.10 in /Library/Frameworks/Python.framework/Versions/3.9/lib/python3.9/site-packages (from dowhy) (1.13.0)\n",
      "Requirement already satisfied: statsmodels>=0.13.5 in /Library/Frameworks/Python.framework/Versions/3.9/lib/python3.9/site-packages (from dowhy) (0.14.2)\n",
      "Requirement already satisfied: sympy>=1.10.1 in /Library/Frameworks/Python.framework/Versions/3.9/lib/python3.9/site-packages (from dowhy) (1.12)\n",
      "Requirement already satisfied: tqdm>=4.64.0 in /Library/Frameworks/Python.framework/Versions/3.9/lib/python3.9/site-packages (from dowhy) (4.66.4)\n",
      "Requirement already satisfied: graphviz in /Library/Frameworks/Python.framework/Versions/3.9/lib/python3.9/site-packages (from causal-learn>=0.1.3.0->dowhy) (0.20.3)\n",
      "Requirement already satisfied: matplotlib in /Library/Frameworks/Python.framework/Versions/3.9/lib/python3.9/site-packages (from causal-learn>=0.1.3.0->dowhy) (3.9.0)\n",
      "Requirement already satisfied: pydot in /Library/Frameworks/Python.framework/Versions/3.9/lib/python3.9/site-packages (from causal-learn>=0.1.3.0->dowhy) (3.0.2)\n",
      "Collecting osqp>=0.6.2 (from cvxpy>=1.2.2->dowhy)\n",
      "  Downloading osqp-0.6.7.post3-cp39-cp39-macosx_11_0_arm64.whl.metadata (1.9 kB)\n",
      "Collecting clarabel>=0.5.0 (from cvxpy>=1.2.2->dowhy)\n",
      "  Downloading clarabel-0.10.0-cp39-abi3-macosx_10_12_x86_64.macosx_11_0_arm64.macosx_10_12_universal2.whl.metadata (4.8 kB)\n",
      "Collecting scs>=3.2.4.post1 (from cvxpy>=1.2.2->dowhy)\n",
      "  Downloading scs-3.2.7.post2-cp39-cp39-macosx_11_0_arm64.whl.metadata (2.1 kB)\n",
      "Requirement already satisfied: llvmlite<0.43,>=0.42.0dev0 in /Library/Frameworks/Python.framework/Versions/3.9/lib/python3.9/site-packages (from numba>=0.59->dowhy) (0.42.0)\n",
      "Requirement already satisfied: python-dateutil>=2.8.2 in /Users/maya/Library/Python/3.9/lib/python/site-packages (from pandas>1.0->dowhy) (2.8.2)\n",
      "Requirement already satisfied: pytz>=2020.1 in /Library/Frameworks/Python.framework/Versions/3.9/lib/python3.9/site-packages (from pandas>1.0->dowhy) (2024.1)\n",
      "Requirement already satisfied: tzdata>=2022.7 in /Library/Frameworks/Python.framework/Versions/3.9/lib/python3.9/site-packages (from pandas>1.0->dowhy) (2024.1)\n",
      "Requirement already satisfied: threadpoolctl>=3.1.0 in /Library/Frameworks/Python.framework/Versions/3.9/lib/python3.9/site-packages (from scikit-learn>1.0->dowhy) (3.5.0)\n",
      "Requirement already satisfied: patsy>=0.5.6 in /Library/Frameworks/Python.framework/Versions/3.9/lib/python3.9/site-packages (from statsmodels>=0.13.5->dowhy) (0.5.6)\n",
      "Requirement already satisfied: packaging>=21.3 in /Users/maya/Library/Python/3.9/lib/python/site-packages (from statsmodels>=0.13.5->dowhy) (23.2)\n",
      "Requirement already satisfied: mpmath>=0.19 in /Library/Frameworks/Python.framework/Versions/3.9/lib/python3.9/site-packages (from sympy>=1.10.1->dowhy) (1.3.0)\n",
      "Collecting qdldl (from osqp>=0.6.2->cvxpy>=1.2.2->dowhy)\n",
      "  Downloading qdldl-0.1.7.post5-cp39-cp39-macosx_11_0_arm64.whl.metadata (1.7 kB)\n",
      "Requirement already satisfied: six in /Users/maya/Library/Python/3.9/lib/python/site-packages (from patsy>=0.5.6->statsmodels>=0.13.5->dowhy) (1.16.0)\n",
      "Requirement already satisfied: contourpy>=1.0.1 in /Library/Frameworks/Python.framework/Versions/3.9/lib/python3.9/site-packages (from matplotlib->causal-learn>=0.1.3.0->dowhy) (1.2.1)\n",
      "Requirement already satisfied: cycler>=0.10 in /Library/Frameworks/Python.framework/Versions/3.9/lib/python3.9/site-packages (from matplotlib->causal-learn>=0.1.3.0->dowhy) (0.12.1)\n",
      "Requirement already satisfied: fonttools>=4.22.0 in /Library/Frameworks/Python.framework/Versions/3.9/lib/python3.9/site-packages (from matplotlib->causal-learn>=0.1.3.0->dowhy) (4.51.0)\n",
      "Requirement already satisfied: kiwisolver>=1.3.1 in /Library/Frameworks/Python.framework/Versions/3.9/lib/python3.9/site-packages (from matplotlib->causal-learn>=0.1.3.0->dowhy) (1.4.5)\n",
      "Requirement already satisfied: pillow>=8 in /Library/Frameworks/Python.framework/Versions/3.9/lib/python3.9/site-packages (from matplotlib->causal-learn>=0.1.3.0->dowhy) (10.3.0)\n",
      "Requirement already satisfied: pyparsing>=2.3.1 in /Library/Frameworks/Python.framework/Versions/3.9/lib/python3.9/site-packages (from matplotlib->causal-learn>=0.1.3.0->dowhy) (3.1.2)\n",
      "Requirement already satisfied: importlib-resources>=3.2.0 in /Library/Frameworks/Python.framework/Versions/3.9/lib/python3.9/site-packages (from matplotlib->causal-learn>=0.1.3.0->dowhy) (6.4.0)\n",
      "Requirement already satisfied: zipp>=3.1.0 in /Users/maya/Library/Python/3.9/lib/python/site-packages (from importlib-resources>=3.2.0->matplotlib->causal-learn>=0.1.3.0->dowhy) (3.17.0)\n",
      "Downloading dowhy-0.12-py3-none-any.whl (398 kB)\n",
      "Downloading cvxpy-1.6.0-cp39-cp39-macosx_10_9_universal2.whl (1.5 MB)\n",
      "\u001b[2K   \u001b[90m━━━━━━━━━━━━━━━━━━━━━━━━━━━━━━━━━━━━━━━━\u001b[0m \u001b[32m1.5/1.5 MB\u001b[0m \u001b[31m9.8 MB/s\u001b[0m eta \u001b[36m0:00:00\u001b[0m\n",
      "\u001b[?25hDownloading Cython-0.29.37-py2.py3-none-any.whl (989 kB)\n",
      "\u001b[2K   \u001b[90m━━━━━━━━━━━━━━━━━━━━━━━━━━━━━━━━━━━━━━━━\u001b[0m \u001b[32m989.5/989.5 kB\u001b[0m \u001b[31m10.5 MB/s\u001b[0m eta \u001b[36m0:00:00\u001b[0m\n",
      "\u001b[?25hDownloading clarabel-0.10.0-cp39-abi3-macosx_10_12_x86_64.macosx_11_0_arm64.macosx_10_12_universal2.whl (1.7 MB)\n",
      "\u001b[2K   \u001b[90m━━━━━━━━━━━━━━━━━━━━━━━━━━━━━━━━━━━━━━━━\u001b[0m \u001b[32m1.7/1.7 MB\u001b[0m \u001b[31m9.4 MB/s\u001b[0m eta \u001b[36m0:00:00\u001b[0m\n",
      "\u001b[?25hDownloading osqp-0.6.7.post3-cp39-cp39-macosx_11_0_arm64.whl (237 kB)\n",
      "Downloading scs-3.2.7.post2-cp39-cp39-macosx_11_0_arm64.whl (93 kB)\n",
      "Downloading qdldl-0.1.7.post5-cp39-cp39-macosx_11_0_arm64.whl (102 kB)\n",
      "Installing collected packages: cython, scs, qdldl, clarabel, osqp, cvxpy, dowhy\n",
      "Successfully installed clarabel-0.10.0 cvxpy-1.6.0 cython-0.29.37 dowhy-0.12 osqp-0.6.7.post3 qdldl-0.1.7.post5 scs-3.2.7.post2\n",
      "\n",
      "\u001b[1m[\u001b[0m\u001b[34;49mnotice\u001b[0m\u001b[1;39;49m]\u001b[0m\u001b[39;49m A new release of pip is available: \u001b[0m\u001b[31;49m24.3.1\u001b[0m\u001b[39;49m -> \u001b[0m\u001b[32;49m25.0.1\u001b[0m\n",
      "\u001b[1m[\u001b[0m\u001b[34;49mnotice\u001b[0m\u001b[1;39;49m]\u001b[0m\u001b[39;49m To update, run: \u001b[0m\u001b[32;49mpip3 install --upgrade pip\u001b[0m\n",
      "Note: you may need to restart the kernel to use updated packages.\n"
     ]
    }
   ],
   "source": [
    "%pip install dowhy"
   ]
  },
  {
   "cell_type": "code",
   "execution_count": 2,
   "metadata": {},
   "outputs": [
    {
     "name": "stderr",
     "output_type": "stream",
     "text": [
      "/Library/Frameworks/Python.framework/Versions/3.9/lib/python3.9/site-packages/tqdm/auto.py:21: TqdmWarning: IProgress not found. Please update jupyter and ipywidgets. See https://ipywidgets.readthedocs.io/en/stable/user_install.html\n",
      "  from .autonotebook import tqdm as notebook_tqdm\n"
     ]
    }
   ],
   "source": [
    "# imports\n",
    "import networkx as nx \n",
    "import numpy as np\n",
    "import pandas as pd\n",
    "from dowhy import gcm"
   ]
  },
  {
   "cell_type": "code",
   "execution_count": 3,
   "metadata": {},
   "outputs": [
    {
     "name": "stderr",
     "output_type": "stream",
     "text": [
      "/var/folders/_f/x2yqbk0n1fq31vqq80nd_2j40000gn/T/ipykernel_55342/2220563643.py:4: FutureWarning: Downcasting behavior in `replace` is deprecated and will be removed in a future version. To retain the old behavior, explicitly call `result.infer_objects(copy=False)`. To opt-in to the future behavior, set `pd.set_option('future.no_silent_downcasting', True)`\n",
      "  depression = depression.replace({'Yes': 1, 'No': 0})\n"
     ]
    },
    {
     "data": {
      "text/html": [
       "<div>\n",
       "<style scoped>\n",
       "    .dataframe tbody tr th:only-of-type {\n",
       "        vertical-align: middle;\n",
       "    }\n",
       "\n",
       "    .dataframe tbody tr th {\n",
       "        vertical-align: top;\n",
       "    }\n",
       "\n",
       "    .dataframe thead th {\n",
       "        text-align: right;\n",
       "    }\n",
       "</style>\n",
       "<table border=\"1\" class=\"dataframe\">\n",
       "  <thead>\n",
       "    <tr style=\"text-align: right;\">\n",
       "      <th></th>\n",
       "      <th>Academic Pressure</th>\n",
       "      <th>Have you ever had suicidal thoughts ?</th>\n",
       "      <th>Financial Stress</th>\n",
       "      <th>City_Ahmedabad</th>\n",
       "      <th>City_Bhopal</th>\n",
       "      <th>City_Faridabad</th>\n",
       "      <th>City_Hyderabad</th>\n",
       "      <th>City_Meerut</th>\n",
       "      <th>City_Patna</th>\n",
       "      <th>Dietary Habits_Moderate</th>\n",
       "      <th>Dietary Habits_Others</th>\n",
       "      <th>Dietary Habits_Unhealthy</th>\n",
       "      <th>Depression</th>\n",
       "    </tr>\n",
       "  </thead>\n",
       "  <tbody>\n",
       "    <tr>\n",
       "      <th>0</th>\n",
       "      <td>5</td>\n",
       "      <td>1</td>\n",
       "      <td>1</td>\n",
       "      <td>0</td>\n",
       "      <td>0</td>\n",
       "      <td>0</td>\n",
       "      <td>0</td>\n",
       "      <td>0</td>\n",
       "      <td>0</td>\n",
       "      <td>0</td>\n",
       "      <td>0</td>\n",
       "      <td>0</td>\n",
       "      <td>1</td>\n",
       "    </tr>\n",
       "    <tr>\n",
       "      <th>1</th>\n",
       "      <td>2</td>\n",
       "      <td>0</td>\n",
       "      <td>2</td>\n",
       "      <td>0</td>\n",
       "      <td>0</td>\n",
       "      <td>0</td>\n",
       "      <td>0</td>\n",
       "      <td>0</td>\n",
       "      <td>0</td>\n",
       "      <td>1</td>\n",
       "      <td>0</td>\n",
       "      <td>0</td>\n",
       "      <td>0</td>\n",
       "    </tr>\n",
       "    <tr>\n",
       "      <th>2</th>\n",
       "      <td>3</td>\n",
       "      <td>0</td>\n",
       "      <td>1</td>\n",
       "      <td>0</td>\n",
       "      <td>0</td>\n",
       "      <td>0</td>\n",
       "      <td>0</td>\n",
       "      <td>0</td>\n",
       "      <td>0</td>\n",
       "      <td>0</td>\n",
       "      <td>0</td>\n",
       "      <td>0</td>\n",
       "      <td>0</td>\n",
       "    </tr>\n",
       "    <tr>\n",
       "      <th>3</th>\n",
       "      <td>3</td>\n",
       "      <td>1</td>\n",
       "      <td>5</td>\n",
       "      <td>0</td>\n",
       "      <td>0</td>\n",
       "      <td>0</td>\n",
       "      <td>0</td>\n",
       "      <td>0</td>\n",
       "      <td>0</td>\n",
       "      <td>1</td>\n",
       "      <td>0</td>\n",
       "      <td>0</td>\n",
       "      <td>1</td>\n",
       "    </tr>\n",
       "    <tr>\n",
       "      <th>4</th>\n",
       "      <td>4</td>\n",
       "      <td>1</td>\n",
       "      <td>1</td>\n",
       "      <td>0</td>\n",
       "      <td>0</td>\n",
       "      <td>0</td>\n",
       "      <td>0</td>\n",
       "      <td>0</td>\n",
       "      <td>0</td>\n",
       "      <td>1</td>\n",
       "      <td>0</td>\n",
       "      <td>0</td>\n",
       "      <td>0</td>\n",
       "    </tr>\n",
       "  </tbody>\n",
       "</table>\n",
       "</div>"
      ],
      "text/plain": [
       "   Academic Pressure  Have you ever had suicidal thoughts ?  Financial Stress  \\\n",
       "0                  5                                      1                 1   \n",
       "1                  2                                      0                 2   \n",
       "2                  3                                      0                 1   \n",
       "3                  3                                      1                 5   \n",
       "4                  4                                      1                 1   \n",
       "\n",
       "   City_Ahmedabad  City_Bhopal  City_Faridabad  City_Hyderabad  City_Meerut  \\\n",
       "0               0            0               0               0            0   \n",
       "1               0            0               0               0            0   \n",
       "2               0            0               0               0            0   \n",
       "3               0            0               0               0            0   \n",
       "4               0            0               0               0            0   \n",
       "\n",
       "   City_Patna  Dietary Habits_Moderate  Dietary Habits_Others  \\\n",
       "0           0                        0                      0   \n",
       "1           0                        1                      0   \n",
       "2           0                        0                      0   \n",
       "3           0                        1                      0   \n",
       "4           0                        1                      0   \n",
       "\n",
       "   Dietary Habits_Unhealthy  Depression  \n",
       "0                         0           1  \n",
       "1                         0           0  \n",
       "2                         0           0  \n",
       "3                         0           1  \n",
       "4                         0           0  "
      ]
     },
     "execution_count": 3,
     "metadata": {},
     "output_type": "execute_result"
    }
   ],
   "source": [
    "# loading the data \n",
    "depression = pd.read_csv(\"data/Student Depression Dataset.csv\")\n",
    "depression = depression.dropna()\n",
    "depression = depression.replace({'Yes': 1, 'No': 0})\n",
    "\n",
    "data_encoded = pd.get_dummies(depression, drop_first=True)\n",
    "data_encoded = data_encoded[['Academic Pressure', 'Have you ever had suicidal thoughts ?',\n",
    " 'Financial Stress', 'City_Ahmedabad', 'City_Bhopal', 'City_Faridabad',\n",
    " 'City_Hyderabad', 'City_Meerut', 'City_Patna', 'Dietary Habits_Moderate',\n",
    " 'Dietary Habits_Others', 'Dietary Habits_Unhealthy', 'Depression']]\n",
    "\n",
    "depression_LASSO_features = data_encoded[['Academic Pressure', 'Have you ever had suicidal thoughts ?',\n",
    "  'Financial Stress', 'City_Ahmedabad', 'City_Bhopal', 'City_Faridabad',\n",
    "  'City_Hyderabad', 'City_Meerut', 'City_Patna', 'Dietary Habits_Moderate',\n",
    "  'Dietary Habits_Others', 'Dietary Habits_Unhealthy', 'Depression']]\n",
    "\n",
    "depression_LASSO_features = depression_LASSO_features.astype(int)\n",
    "\n",
    "depression_LASSO_features.head()"
   ]
  },
  {
   "cell_type": "code",
   "execution_count": 4,
   "metadata": {},
   "outputs": [
    {
     "data": {
      "text/plain": [
       "10316"
      ]
     },
     "execution_count": 4,
     "metadata": {},
     "output_type": "execute_result"
    }
   ],
   "source": [
    "depression_LASSO_features['Dietary Habits_Unhealthy'].sum()"
   ]
  },
  {
   "cell_type": "code",
   "execution_count": 5,
   "metadata": {},
   "outputs": [],
   "source": [
    "# X -> treatment (e.g., sleep duration, dietary habits)\n",
    "# Y -> city of residence?\n",
    "# Z -> observation (e.g., depression)\n",
    "\n",
    "# create \"scoring\" for dietary habits -> 0 for unhealthy, \n",
    "# 1 for moderate, 2 for other \n",
    "\n",
    "# add the ones = 1 from unhealthy,\n",
    "# = 1 from moderate, and = 1 for others. before this, \n",
    "# encode them as above.\n",
    "depression_LASSO_features['Dietary_Score'] = (\n",
    "    depression_LASSO_features['Dietary Habits_Moderate'] * 1 +\n",
    "    depression_LASSO_features['Dietary Habits_Others'] * 2 +\n",
    "    depression_LASSO_features['Dietary Habits_Unhealthy'] * 0\n",
    ")\n",
    "X = depression_LASSO_features['Dietary_Score']\n",
    "\n",
    "city_columns = ['City_Ahmedabad', 'City_Bhopal', 'City_Faridabad',\n",
    "                'City_Hyderabad', 'City_Meerut', 'City_Patna']\n",
    "\n",
    "depression_LASSO_features['City_Index'] = depression_LASSO_features[city_columns].idxmax(axis=1)\n",
    "depression_LASSO_features['City_Index'] = depression_LASSO_features['City_Index'].apply(lambda x: city_columns.index(x) + 1)\n",
    "\n",
    "Y = depression_LASSO_features['City_Index']\n",
    "Z = depression_LASSO_features['Depression']"
   ]
  },
  {
   "cell_type": "code",
   "execution_count": 6,
   "metadata": {},
   "outputs": [],
   "source": [
    "training_data = pd.DataFrame(data=dict(X=X, Y=Y, Z=Z))"
   ]
  },
  {
   "cell_type": "code",
   "execution_count": 7,
   "metadata": {},
   "outputs": [],
   "source": [
    "causal_model = gcm.InvertibleStructuralCausalModel(nx.DiGraph([('X', 'Y'), ('Y', 'Z')])) # X -> Y -> Z\n",
    "causal_model.set_causal_mechanism('X', gcm.EmpiricalDistribution())\n",
    "causal_model.set_causal_mechanism('Y', gcm.AdditiveNoiseModel(gcm.ml.create_linear_regressor()))\n",
    "causal_model.set_causal_mechanism('Z', gcm.AdditiveNoiseModel(gcm.ml.create_linear_regressor()))"
   ]
  },
  {
   "cell_type": "code",
   "execution_count": 8,
   "metadata": {},
   "outputs": [
    {
     "name": "stderr",
     "output_type": "stream",
     "text": [
      "Fitting causal mechanism of node Z: 100%|██████████| 3/3 [00:00<00:00, 93.86it/s]\n"
     ]
    }
   ],
   "source": [
    "gcm.fit(causal_model, training_data)"
   ]
  },
  {
   "cell_type": "code",
   "execution_count": 9,
   "metadata": {},
   "outputs": [
    {
     "data": {
      "text/html": [
       "<div>\n",
       "<style scoped>\n",
       "    .dataframe tbody tr th:only-of-type {\n",
       "        vertical-align: middle;\n",
       "    }\n",
       "\n",
       "    .dataframe tbody tr th {\n",
       "        vertical-align: top;\n",
       "    }\n",
       "\n",
       "    .dataframe thead th {\n",
       "        text-align: right;\n",
       "    }\n",
       "</style>\n",
       "<table border=\"1\" class=\"dataframe\">\n",
       "  <thead>\n",
       "    <tr style=\"text-align: right;\">\n",
       "      <th></th>\n",
       "      <th>X</th>\n",
       "      <th>Y</th>\n",
       "      <th>Z</th>\n",
       "    </tr>\n",
       "  </thead>\n",
       "  <tbody>\n",
       "    <tr>\n",
       "      <th>0</th>\n",
       "      <td>2</td>\n",
       "      <td>2.040501</td>\n",
       "      <td>3.000568</td>\n",
       "    </tr>\n",
       "  </tbody>\n",
       "</table>\n",
       "</div>"
      ],
      "text/plain": [
       "   X         Y         Z\n",
       "0  2  2.040501  3.000568"
      ]
     },
     "execution_count": 9,
     "metadata": {},
     "output_type": "execute_result"
    }
   ],
   "source": [
    "gcm.counterfactual_samples(\n",
    "    causal_model,\n",
    "    {'X': lambda x: 2},\n",
    "    observed_data=pd.DataFrame(data=dict(X=[1], Y=[2], Z=[3])))"
   ]
  },
  {
   "cell_type": "code",
   "execution_count": null,
   "metadata": {},
   "outputs": [],
   "source": []
  }
 ],
 "metadata": {
  "kernelspec": {
   "display_name": "Python 3",
   "language": "python",
   "name": "python3"
  },
  "language_info": {
   "codemirror_mode": {
    "name": "ipython",
    "version": 3
   },
   "file_extension": ".py",
   "mimetype": "text/x-python",
   "name": "python",
   "nbconvert_exporter": "python",
   "pygments_lexer": "ipython3",
   "version": "3.9.2"
  }
 },
 "nbformat": 4,
 "nbformat_minor": 2
}
