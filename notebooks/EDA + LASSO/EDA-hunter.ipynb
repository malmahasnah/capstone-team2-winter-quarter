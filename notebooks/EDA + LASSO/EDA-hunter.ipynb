{
 "cells": [
  {
   "cell_type": "code",
   "execution_count": 36,
   "metadata": {},
   "outputs": [],
   "source": [
    "import pandas as pd\n",
    "import numpy as np\n",
    "from sklearn.linear_model import Lasso, LogisticRegression\n",
    "from sklearn.model_selection import train_test_split\n",
    "from sklearn.preprocessing import StandardScaler\n",
    "from sklearn.metrics import mean_squared_error, r2_score\n",
    "from sklearn.feature_selection import SelectFromModel"
   ]
  },
  {
   "cell_type": "code",
   "execution_count": 1,
   "metadata": {},
   "outputs": [
    {
     "ename": "NameError",
     "evalue": "name 'pd' is not defined",
     "output_type": "error",
     "traceback": [
      "\u001b[1;31m---------------------------------------------------------------------------\u001b[0m",
      "\u001b[1;31mNameError\u001b[0m                                 Traceback (most recent call last)",
      "\u001b[1;32m~\\AppData\\Local\\Temp\\ipykernel_1624\\3469159867.py\u001b[0m in \u001b[0;36m<module>\u001b[1;34m\u001b[0m\n\u001b[1;32m----> 1\u001b[1;33m \u001b[0mdf_raw\u001b[0m \u001b[1;33m=\u001b[0m \u001b[0mpd\u001b[0m\u001b[1;33m.\u001b[0m\u001b[0mread_csv\u001b[0m\u001b[1;33m(\u001b[0m\u001b[1;34m'../data/Student Depression Dataset.csv'\u001b[0m\u001b[1;33m)\u001b[0m\u001b[1;33m\u001b[0m\u001b[1;33m\u001b[0m\u001b[0m\n\u001b[0m\u001b[0;32m      2\u001b[0m \u001b[0mdf_raw\u001b[0m\u001b[1;33m[\u001b[0m\u001b[1;34m'Family History of Mental Illness'\u001b[0m\u001b[1;33m]\u001b[0m \u001b[1;33m=\u001b[0m \u001b[0mdf_raw\u001b[0m\u001b[1;33m[\u001b[0m\u001b[1;34m'Family History of Mental Illness'\u001b[0m\u001b[1;33m]\u001b[0m\u001b[1;33m.\u001b[0m\u001b[0mapply\u001b[0m\u001b[1;33m(\u001b[0m\u001b[1;32mlambda\u001b[0m \u001b[0mx\u001b[0m\u001b[1;33m:\u001b[0m \u001b[1;36m1\u001b[0m \u001b[1;32mif\u001b[0m \u001b[0mx\u001b[0m\u001b[1;33m==\u001b[0m\u001b[1;34m'Yes'\u001b[0m \u001b[1;32melse\u001b[0m \u001b[1;36m0\u001b[0m\u001b[1;33m)\u001b[0m\u001b[1;33m\u001b[0m\u001b[1;33m\u001b[0m\u001b[0m\n\u001b[0;32m      3\u001b[0m \u001b[0mdf_raw\u001b[0m\u001b[1;33m[\u001b[0m\u001b[1;34m'Have you ever had suicidal thoughts ?'\u001b[0m\u001b[1;33m]\u001b[0m \u001b[1;33m=\u001b[0m \u001b[0mdf_raw\u001b[0m\u001b[1;33m[\u001b[0m\u001b[1;34m'Have you ever had suicidal thoughts ?'\u001b[0m\u001b[1;33m]\u001b[0m\u001b[1;33m.\u001b[0m\u001b[0mapply\u001b[0m\u001b[1;33m(\u001b[0m\u001b[1;32mlambda\u001b[0m \u001b[0mx\u001b[0m\u001b[1;33m:\u001b[0m \u001b[1;36m1\u001b[0m \u001b[1;32mif\u001b[0m \u001b[0mx\u001b[0m\u001b[1;33m==\u001b[0m\u001b[1;34m'Yes'\u001b[0m \u001b[1;32melse\u001b[0m \u001b[1;36m0\u001b[0m\u001b[1;33m)\u001b[0m\u001b[1;33m\u001b[0m\u001b[1;33m\u001b[0m\u001b[0m\n\u001b[0;32m      4\u001b[0m \u001b[0mdf_raw\u001b[0m\u001b[1;33m.\u001b[0m\u001b[0mdrop\u001b[0m\u001b[1;33m(\u001b[0m\u001b[0mdf_raw\u001b[0m\u001b[1;33m[\u001b[0m\u001b[0mdf_raw\u001b[0m\u001b[1;33m.\u001b[0m\u001b[0misnull\u001b[0m\u001b[1;33m(\u001b[0m\u001b[1;33m)\u001b[0m\u001b[1;33m[\u001b[0m\u001b[1;34m'Financial Stress'\u001b[0m\u001b[1;33m]\u001b[0m\u001b[1;33m]\u001b[0m\u001b[1;33m.\u001b[0m\u001b[0mindex\u001b[0m\u001b[1;33m,\u001b[0m \u001b[0maxis\u001b[0m\u001b[1;33m=\u001b[0m\u001b[1;36m0\u001b[0m\u001b[1;33m,\u001b[0m \u001b[0minplace\u001b[0m\u001b[1;33m=\u001b[0m\u001b[1;32mTrue\u001b[0m\u001b[1;33m)\u001b[0m\u001b[1;33m\u001b[0m\u001b[1;33m\u001b[0m\u001b[0m\n\u001b[0;32m      5\u001b[0m \u001b[1;33m\u001b[0m\u001b[0m\n",
      "\u001b[1;31mNameError\u001b[0m: name 'pd' is not defined"
     ]
    }
   ],
   "source": [
    "df_raw = pd.read_csv('../data/Student Depression Dataset.csv')\n",
    "df_raw['Family History of Mental Illness'] = df_raw['Family History of Mental Illness'].apply(lambda x: 1 if x=='Yes' else 0)\n",
    "df_raw['Have you ever had suicidal thoughts ?'] = df_raw['Have you ever had suicidal thoughts ?'].apply(lambda x: 1 if x=='Yes' else 0)\n",
    "df_raw.drop(df_raw[df_raw.isnull()['Financial Stress']].index, axis=0, inplace=True)\n",
    "\n",
    "\n",
    "df_raw.head()"
   ]
  },
  {
   "cell_type": "code",
   "execution_count": null,
   "metadata": {},
   "outputs": [],
   "source": []
  },
  {
   "cell_type": "code",
   "execution_count": 32,
   "metadata": {},
   "outputs": [
    {
     "name": "stdout",
     "output_type": "stream",
     "text": [
      "Mean Squared Error: 0.15376489511203154\n",
      "R-squared: 0.3691063597196873\n"
     ]
    }
   ],
   "source": [
    "# Adjust df to work for lasso regression\n",
    "df_lasso = df_raw.drop([\"Gender\", 'City', \"Profession\", 'Degree', 'id'], axis=1)\n",
    "df_lasso = pd.get_dummies(df_lasso, columns=['Dietary Habits', 'Sleep Duration'])\n",
    "\n",
    "X = df_lasso.drop(\"Depression\", axis=1)\n",
    "y = df_lasso[\"Depression\"]\n",
    "\n",
    "\n",
    "X_train, X_test, y_train, y_test = train_test_split(X, y, test_size=0.2, random_state=42)\n",
    "\n",
    "# Standardize\n",
    "scaler = StandardScaler()\n",
    "X_train = scaler.fit_transform(X_train)\n",
    "X_test = scaler.transform(X_test)\n",
    "\n",
    "\n",
    "lasso = Lasso(alpha=.1)  # Adjust alpha as needed\n",
    "\n",
    "lasso.fit(X_train, y_train)\n",
    "\n",
    "y_pred = lasso.predict(X_test)\n",
    "\n",
    "# Evaluate the model\n",
    "mse = mean_squared_error(y_test, y_pred)\n",
    "r2 = r2_score(y_test, y_pred)\n",
    "\n",
    "print(\"Mean Squared Error:\", mse)\n",
    "print(\"R-squared:\", r2)"
   ]
  },
  {
   "cell_type": "code",
   "execution_count": 43,
   "metadata": {},
   "outputs": [
    {
     "name": "stderr",
     "output_type": "stream",
     "text": [
      "c:\\Users\\hunte\\anaconda3\\lib\\site-packages\\sklearn\\base.py:450: UserWarning: X does not have valid feature names, but StandardScaler was fitted with feature names\n",
      "  warnings.warn(\n"
     ]
    },
    {
     "data": {
      "text/plain": [
       "Index(['Dietary Habits_Healthy', 'Sleep Duration_7-8 hours'], dtype='object')"
      ]
     },
     "execution_count": 43,
     "metadata": {},
     "output_type": "execute_result"
    }
   ],
   "source": [
    "X = df_lasso.drop(\"Depression\", axis=1)\n",
    "y = df_lasso[\"Depression\"]\n",
    "\n",
    "\n",
    "X_train, X_test, y_train, y_test = train_test_split(X, y, test_size=0.2, random_state=42)\n",
    "\n",
    "# Standardize\n",
    "scaler = StandardScaler()\n",
    "X_train = scaler.fit_transform(X_train)\n",
    "X_test = scaler.transform(X_test)\n",
    "\n",
    "sel_ = SelectFromModel(\n",
    "    LogisticRegression(C=0.1, penalty='l1', solver='liblinear', random_state=10))\n",
    "sel_.fit(scaler.transform(X_train), y_train)\n",
    "\n",
    "lst = sel_.get_support()\n",
    "\n",
    "removed_feats = X.columns[(sel_.estimator_.coef_ == 0).ravel().tolist()]\n",
    "removed_feats\n"
   ]
  },
  {
   "cell_type": "code",
   "execution_count": null,
   "metadata": {},
   "outputs": [
    {
     "name": "stdout",
     "output_type": "stream",
     "text": [
      "Stats for depressed participants:\n",
      "2.7514691478942215\n"
     ]
    }
   ],
   "source": [
    "df_dep = df_raw[df_raw['Depression'] == 1]\n",
    "print(\"Average Stats for depressed participants:\\n  Study satisfaction\" + str(df_dep['Study Satisfaction'].mean()))"
   ]
  },
  {
   "cell_type": "code",
   "execution_count": 13,
   "metadata": {},
   "outputs": [
    {
     "data": {
      "text/plain": [
       "array(['B.Pharm', 'BSc', 'BA', 'BCA', 'M.Tech', 'PhD', 'Class 12', 'B.Ed',\n",
       "       'LLB', 'BE', 'M.Ed', 'MSc', 'BHM', 'M.Pharm', 'MCA', 'MA', 'B.Com',\n",
       "       'MD', 'MBA', 'MBBS', 'M.Com', 'B.Arch', 'LLM', 'B.Tech', 'BBA',\n",
       "       'ME', 'MHM', 'Others'], dtype=object)"
      ]
     },
     "execution_count": 13,
     "metadata": {},
     "output_type": "execute_result"
    }
   ],
   "source": [
    "df_raw['Degree'].unique()"
   ]
  },
  {
   "cell_type": "code",
   "execution_count": 5,
   "metadata": {},
   "outputs": [
    {
     "data": {
      "text/plain": [
       "array(['5-6 hours', 'Less than 5 hours', '7-8 hours', 'More than 8 hours',\n",
       "       'Others'], dtype=object)"
      ]
     },
     "execution_count": 5,
     "metadata": {},
     "output_type": "execute_result"
    }
   ],
   "source": [
    "df_raw['Sleep Duration'].unique()"
   ]
  },
  {
   "cell_type": "code",
   "execution_count": 18,
   "metadata": {},
   "outputs": [
    {
     "name": "stdout",
     "output_type": "stream",
     "text": [
      "CGPA:\n",
      "count    27901.000000\n",
      "mean         7.656104\n",
      "std          1.470707\n",
      "min          0.000000\n",
      "25%          6.290000\n",
      "50%          7.770000\n",
      "75%          8.920000\n",
      "max         10.000000\n",
      "Name: CGPA, dtype: float64\n",
      "\n",
      "Average CGPA of PhD students who are depressed: 7.769265734265735\n",
      "\n",
      "Average CGPA by Sleep Duration:\n",
      "Sleep Duration\n",
      "5-6 hours            7.688737\n",
      "7-8 hours            7.686127\n",
      "Less than 5 hours    7.640473\n",
      "More than 8 hours    7.607902\n",
      "Others               7.595556\n",
      "Name: CGPA, dtype: float64\n",
      "\n",
      "Proportion of students with depression by Sleep Duration:\n",
      "Sleep Duration\n",
      "5-6 hours            0.568818\n",
      "7-8 hours            0.595018\n",
      "Less than 5 hours    0.645126\n",
      "More than 8 hours    0.509265\n",
      "Others               0.500000\n",
      "Name: Depression, dtype: float64\n",
      "\n",
      "Average CGPA by Degree:\n",
      "Degree\n",
      "B.Arch      7.616502\n",
      "B.Com       7.671826\n",
      "B.Ed        7.850911\n",
      "B.Pharm     7.707753\n",
      "B.Tech      7.636513\n",
      "BA          7.761300\n",
      "BBA         7.714468\n",
      "BCA         7.769281\n",
      "BE          7.484617\n",
      "BHM         7.649859\n",
      "BSc         7.576824\n",
      "Class 12    7.594184\n",
      "LLB         7.686602\n",
      "LLM         7.879419\n",
      "M.Com       7.788978\n",
      "M.Ed        7.707491\n",
      "M.Pharm     7.513574\n",
      "M.Tech      7.592896\n",
      "MA          8.028364\n",
      "MBA         7.679431\n",
      "MBBS        7.551767\n",
      "MCA         7.562854\n",
      "MD          7.691381\n",
      "ME          7.269676\n",
      "MHM         7.606440\n",
      "MSc         7.513261\n",
      "Others      7.588857\n",
      "PhD         7.677088\n",
      "Name: CGPA, dtype: float64\n",
      "\n",
      "Correlation Matrix:\n",
      "                         Age  Academic Pressure  Work Pressure      CGPA  \\\n",
      "Age                 1.000000          -0.075803       0.002015  0.005056   \n",
      "Academic Pressure  -0.075803           1.000000      -0.022231 -0.022239   \n",
      "Work Pressure       0.002015          -0.022231       1.000000 -0.050896   \n",
      "CGPA                0.005056          -0.022239      -0.050896  1.000000   \n",
      "Study Satisfaction  0.009235          -0.110988      -0.021145 -0.044062   \n",
      "Job Satisfaction   -0.000432          -0.024945       0.770652 -0.053631   \n",
      "Work/Study Hours   -0.032928           0.095970      -0.005468  0.002604   \n",
      "Financial Stress   -0.095026           0.151706       0.001883  0.005885   \n",
      "Depression         -0.226422           0.474835      -0.003351  0.022210   \n",
      "\n",
      "                    Study Satisfaction  Job Satisfaction  Work/Study Hours  \\\n",
      "Age                           0.009235         -0.000432         -0.032928   \n",
      "Academic Pressure            -0.110988         -0.024945          0.095970   \n",
      "Work Pressure                -0.021145          0.770652         -0.005468   \n",
      "CGPA                         -0.044062         -0.053631          0.002604   \n",
      "Study Satisfaction            1.000000         -0.021907         -0.036441   \n",
      "Job Satisfaction             -0.021907          1.000000         -0.005222   \n",
      "Work/Study Hours             -0.036441         -0.005222          1.000000   \n",
      "Financial Stress             -0.065107          0.005248          0.075283   \n",
      "Depression                   -0.167971         -0.003482          0.208563   \n",
      "\n",
      "                    Financial Stress  Depression  \n",
      "Age                        -0.095026   -0.226422  \n",
      "Academic Pressure           0.151706    0.474835  \n",
      "Work Pressure               0.001883   -0.003351  \n",
      "CGPA                        0.005885    0.022210  \n",
      "Study Satisfaction         -0.065107   -0.167971  \n",
      "Job Satisfaction            0.005248   -0.003482  \n",
      "Work/Study Hours            0.075283    0.208563  \n",
      "Financial Stress            1.000000    0.363591  \n",
      "Depression                  0.363591    1.000000  \n"
     ]
    }
   ],
   "source": [
    "print(\"CGPA:\")\n",
    "print(df_raw['CGPA'].describe())\n",
    "\n",
    "cgpa_phd_dep = df_dep[df_dep['Degree'] == 'PhD']['CGPA'].mean()\n",
    "print(f\"\\nAverage CGPA of PhD students who are depressed: {cgpa_phd_dep}\")\n",
    "\n",
    "cgpa_sleep = df_raw.groupby('Sleep Duration')['CGPA'].mean()\n",
    "print(\"\\nAverage CGPA by Sleep Duration:\")\n",
    "print(cgpa_sleep)\n",
    "\n",
    "depression_by_sleep = df_raw.groupby('Sleep Duration')['Depression'].mean()\n",
    "print(\"\\nProportion of students with depression by Sleep Duration:\")\n",
    "print(depression_by_sleep)\n",
    "\n",
    "\n",
    "avg_cgpa_by_degree = df_raw.groupby('Degree')['CGPA'].mean()\n",
    "print(\"\\nAverage CGPA by Degree:\")\n",
    "print(avg_cgpa_by_degree)\n",
    "\n",
    "correlation_matrix = df_raw[['Age', 'Academic Pressure', 'Work Pressure', 'CGPA', \n",
    "                             'Study Satisfaction', 'Job Satisfaction', 'Sleep Duration', \n",
    "                             'Work/Study Hours', 'Financial Stress', 'Depression']].corr()\n",
    "print(\"\\nCorrelation Matrix:\")\n",
    "print(correlation_matrix)\n"
   ]
  },
  {
   "cell_type": "code",
   "execution_count": null,
   "metadata": {},
   "outputs": [
    {
     "name": "stdout",
     "output_type": "stream",
     "text": [
      "\n",
      "Average CGPA by Financial Stress Level:\n",
      "Financial Stress\n",
      "1.0    7.656335\n",
      "2.0    7.630041\n",
      "3.0    7.640758\n",
      "4.0    7.691988\n",
      "5.0    7.656886\n",
      "Name: CGPA, dtype: float64\n",
      "\n",
      "Proportion of students with depression by Financial Stress Level:\n",
      "Financial Stress\n",
      "1.0    0.318688\n",
      "2.0    0.429757\n",
      "3.0    0.589361\n",
      "4.0    0.690909\n",
      "5.0    0.812807\n",
      "Name: Depression, dtype: float64\n",
      "\n",
      "Average Study Satisfaction by Financial Stress Level:\n",
      "Financial Stress\n",
      "1.0    3.134739\n",
      "2.0    2.972337\n",
      "3.0    2.889591\n",
      "4.0    2.906494\n",
      "5.0    2.851675\n",
      "Name: Study Satisfaction, dtype: float64\n",
      "\n",
      "Sleep Duration distribution by Financial Stress Level (proportion):\n",
      "Financial Stress  Sleep Duration   \n",
      "1.0               Less than 5 hours    0.319469\n",
      "                  7-8 hours            0.247998\n",
      "                  More than 8 hours    0.217926\n",
      "                  5-6 hours            0.213630\n",
      "                  Others               0.000976\n",
      "2.0               Less than 5 hours    0.274649\n",
      "                  7-8 hours            0.262201\n",
      "                  5-6 hours            0.234341\n",
      "                  More than 8 hours    0.228018\n",
      "                  Others               0.000790\n",
      "3.0               Less than 5 hours    0.287409\n",
      "                  7-8 hours            0.263682\n",
      "                  5-6 hours            0.230769\n",
      "                  More than 8 hours    0.217375\n",
      "                  Others               0.000765\n",
      "4.0               Less than 5 hours    0.283117\n",
      "                  7-8 hours            0.278268\n",
      "                  5-6 hours            0.228398\n",
      "                  More than 8 hours    0.209870\n",
      "                  Others               0.000346\n",
      "5.0               Less than 5 hours    0.319583\n",
      "                  7-8 hours            0.262695\n",
      "                  More than 8 hours    0.212360\n",
      "                  5-6 hours            0.204914\n",
      "                  Others               0.000447\n",
      "Name: Sleep Duration, dtype: float64\n",
      "\n",
      "Correlation of Financial Stress with other numerical variables:\n",
      "id                    0.000783\n",
      "Age                  -0.095026\n",
      "Academic Pressure     0.151706\n",
      "Work Pressure         0.001883\n",
      "CGPA                  0.005885\n",
      "Study Satisfaction   -0.065107\n",
      "Job Satisfaction      0.005248\n",
      "Work/Study Hours      0.075283\n",
      "Financial Stress      1.000000\n",
      "Depression            0.363591\n",
      "Name: Financial Stress, dtype: float64\n"
     ]
    }
   ],
   "source": [
    "\n",
    "cgpa_by_financial_stress = df_raw.groupby('Financial Stress')['CGPA'].mean()\n",
    "print(\"\\nAverage CGPA by Financial Stress Level:\")\n",
    "print(cgpa_by_financial_stress)\n",
    "\n",
    "\n",
    "depression_by_financial_stress = df_raw.groupby('Financial Stress')['Depression'].mean()\n",
    "print(\"\\nProportion of students with depression by Financial Stress Level:\")\n",
    "print(depression_by_financial_stress)\n",
    "\n",
    "\n",
    "study_satisfaction_by_financial_stress = df_raw.groupby('Financial Stress')['Study Satisfaction'].mean()\n",
    "print(\"\\nAverage Study Satisfaction by Financial Stress Level:\")\n",
    "print(study_satisfaction_by_financial_stress)\n",
    "\n",
    "\n",
    "sleep_duration_distribution = df_raw.groupby('Financial Stress')['Sleep Duration'].value_counts(normalize=True)\n",
    "print(\"\\nSleep Duration proportions by Financial Stress Level:\")\n",
    "print(sleep_duration_distribution)\n",
    "\n",
    "correlation_with_financial_stress = df_raw.corr()['Financial Stress']\n",
    "print(\"\\nCorrelation of Financial Stress with other numerical variables:\")\n",
    "print(correlation_with_financial_stress)"
   ]
  },
  {
   "cell_type": "code",
   "execution_count": null,
   "metadata": {},
   "outputs": [],
   "source": []
  },
  {
   "cell_type": "code",
   "execution_count": null,
   "metadata": {},
   "outputs": [],
   "source": []
  },
  {
   "cell_type": "code",
   "execution_count": null,
   "metadata": {},
   "outputs": [],
   "source": []
  }
 ],
 "metadata": {
  "kernelspec": {
   "display_name": "base",
   "language": "python",
   "name": "python3"
  },
  "language_info": {
   "codemirror_mode": {
    "name": "ipython",
    "version": 3
   },
   "file_extension": ".py",
   "mimetype": "text/x-python",
   "name": "python",
   "nbconvert_exporter": "python",
   "pygments_lexer": "ipython3",
   "version": "3.9.18"
  }
 },
 "nbformat": 4,
 "nbformat_minor": 2
}
