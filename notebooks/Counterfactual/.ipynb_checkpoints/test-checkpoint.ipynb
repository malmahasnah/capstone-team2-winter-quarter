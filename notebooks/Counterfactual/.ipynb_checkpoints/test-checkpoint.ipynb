{
 "cells": [
  {
   "cell_type": "code",
   "execution_count": 1,
   "id": "a70ba372",
   "metadata": {},
   "outputs": [],
   "source": [
    "import pandas as pd\n",
    "import numpy as np\n",
    "import networkx as nx\n",
    "import matplotlib.pyplot as plt\n",
    "from causallearn.search.ConstraintBased.PC import pc\n",
    "from dowhy import gcm"
   ]
  },
  {
   "cell_type": "code",
   "execution_count": 2,
   "id": "e23cb984",
   "metadata": {},
   "outputs": [],
   "source": [
    "def load_and_preprocess_data(file_path, selected_columns=None):\n",
    "    df = pd.read_csv(file_path)\n",
    "    df = df.replace({'Yes': 1, 'No': 0})\n",
    "    df = df.dropna()\n",
    "    data_encoded = pd.get_dummies(df, drop_first=True, dtype=int)\n",
    "\n",
    "    if selected_columns:\n",
    "        data_encoded = data_encoded[selected_columns]\n",
    "    \n",
    "    return data_encoded, data_encoded.to_numpy()"
   ]
  },
  {
   "cell_type": "code",
   "execution_count": 8,
   "id": "0f5a567e",
   "metadata": {},
   "outputs": [],
   "source": []
  },
  {
   "cell_type": "code",
   "execution_count": 121,
   "id": "c2d929f3",
   "metadata": {},
   "outputs": [],
   "source": [
    "def compute_counterfactuals1(file_path, intervention_var):\n",
    "    df = pd.read_csv(file_path).dropna()\n",
    "    df = df.replace({'Yes': 1, 'No': 0})\n",
    "    data_encoded = pd.get_dummies(df, drop_first=True, dtype=int)\n",
    "\n",
    "    selected_columns = ['Academic_Pressure', 'Suicidal_Thoughts',\n",
    "                        'Financial_Stress', 'Depression']\n",
    "    \n",
    "    if intervention_var not in selected_columns:\n",
    "        raise ValueError(f\"Invalid intervention variable. Choose from: {selected_columns}\")\n",
    "\n",
    "    # Prompt user for observed values (excluding 'Depression')\n",
    "    observed_data = {}\n",
    "    print(f\"\\nPlease enter observed values for the following variables (excluding '{intervention_var}' and 'Depression'):\")\n",
    "    \n",
    "    observed_data[intervention_var] = 1\n",
    "    observed_data['Depression'] = 1\n",
    "    \n",
    "    for var in selected_columns:\n",
    "            if var != intervention_var and var != 'Depression':  # Skip Depression\n",
    "                while True:\n",
    "                    try:\n",
    "                        if var == 'Academic_Pressure' or var == 'Financial_Stress':\n",
    "                            value = int(input(f\"  {var} (1-5): \"))\n",
    "                            if value < 1 or value > 5:\n",
    "                                print(\"Invalid input. Please enter a value between 1 and 5.\")\n",
    "                                continue\n",
    "                        elif var == 'Suicidal_Thoughts':\n",
    "                            value = int(input(f\"  {var} (0-1): \"))\n",
    "                            if value < 0 or value > 1:\n",
    "                                print(\"Invalid input. Please enter a value between 0 and 1.\")\n",
    "                                continue\n",
    "\n",
    "                        observed_data[var] = value\n",
    "                        break\n",
    "                    except ValueError:\n",
    "                        print(\"Invalid input. Please enter a numeric value.\")\n",
    "                        \n",
    "    # Convert observed values into DataFrame (without Depression)\n",
    "    observed_data_df = pd.DataFrame([observed_data])\n",
    "\n",
    "    # Construct causal model\n",
    "    causal_model = gcm.InvertibleStructuralCausalModel(nx.DiGraph([\n",
    "                                        ('Financial_Stress', 'Depression'),\n",
    "                                        ('Suicidal_Thoughts', 'Depression'),\n",
    "                                        ('Academic_Pressure', 'Depression')\n",
    "                                        ])\n",
    "                                        )\n",
    "    causal_model.set_causal_mechanism('Financial_Stress', gcm.EmpiricalDistribution())\n",
    "    causal_model.set_causal_mechanism('Suicidal_Thoughts', \n",
    "                                      gcm.EmpiricalDistribution())\n",
    "    causal_model.set_causal_mechanism('Academic_Pressure', gcm.EmpiricalDistribution())\n",
    "    causal_model.set_causal_mechanism('Depression', \n",
    "                                      gcm.AdditiveNoiseModel(\n",
    "                                          gcm.ml.create_linear_regressor()))\n",
    "        \n",
    "    # Train model\n",
    "    training_data = pd.DataFrame(data=dict(\n",
    "    **{'Financial_Stress': data_encoded['Financial Stress']},\n",
    "    **{'Suicidal_Thoughts': data_encoded['Have you ever had suicidal thoughts ?']},\n",
    "    **{'Academic_Pressure': data_encoded['Academic Pressure']},\n",
    "    **{'Depression': data_encoded['Depression']}\n",
    "    ))\n",
    "    \n",
    "    gcm.fit(causal_model, training_data)\n",
    "\n",
    "    # Generate counterfactuals for different intervention values\n",
    "    print(f\"\\nIntervening on '{intervention_var}' with different values...\")\n",
    "    \n",
    "    print(observed_data_df)\n",
    "    counterfactual_results = {}\n",
    "    for value in range(1,6):  \n",
    "        result = gcm.counterfactual_samples(\n",
    "            causal_model,\n",
    "            {'Financial_Stress': lambda x: value},  \n",
    "            observed_data=observed_data_df\n",
    "        )\n",
    "\n",
    "        counterfactual_results[f\"{intervention_var}={value}\"] = result['Depression'].values[0]\n",
    "    # Display results\n",
    "    counterfactual_df = pd.DataFrame(counterfactual_results, index=['Depression'])\n",
    "    print(\"\\nCounterfactual Results:\")\n",
    "    print(counterfactual_df)\n",
    "\n",
    "    return counterfactual_df\n"
   ]
  },
  {
   "cell_type": "code",
   "execution_count": 122,
   "id": "c0a1d557",
   "metadata": {},
   "outputs": [],
   "source": [
    "filepath = 'data/Student Depression Dataset.csv'"
   ]
  },
  {
   "cell_type": "code",
   "execution_count": 123,
   "id": "4bb0a645",
   "metadata": {},
   "outputs": [
    {
     "name": "stdout",
     "output_type": "stream",
     "text": [
      "\n",
      "Please enter observed values for the following variables (excluding 'Financial_Stress' and 'Depression'):\n",
      "  Academic_Pressure (1-5): 2\n",
      "  Suicidal_Thoughts (0-1): 2\n",
      "Invalid input. Please enter a value between 0 and 1.\n",
      "  Suicidal_Thoughts (0-1): 1\n"
     ]
    },
    {
     "name": "stderr",
     "output_type": "stream",
     "text": [
      "Fitting causal mechanism of node Academic_Pressure: 100%|███████████████████████████████| 4/4 [00:00<00:00, 571.29it/s]"
     ]
    },
    {
     "name": "stdout",
     "output_type": "stream",
     "text": [
      "\n",
      "Intervening on 'Financial_Stress' with different values...\n",
      "   Financial_Stress  Depression  Academic_Pressure  Suicidal_Thoughts\n",
      "0                 1           1                  2                  1\n",
      "\n",
      "Counterfactual Results:\n",
      "            Financial_Stress=1  Financial_Stress=2  Financial_Stress=3  \\\n",
      "Depression                 1.0            1.077797            1.155594   \n",
      "\n",
      "            Financial_Stress=4  Financial_Stress=5  \n",
      "Depression            1.233391            1.311188  \n"
     ]
    },
    {
     "name": "stderr",
     "output_type": "stream",
     "text": [
      "\n"
     ]
    },
    {
     "data": {
      "text/html": [
       "<div>\n",
       "<style scoped>\n",
       "    .dataframe tbody tr th:only-of-type {\n",
       "        vertical-align: middle;\n",
       "    }\n",
       "\n",
       "    .dataframe tbody tr th {\n",
       "        vertical-align: top;\n",
       "    }\n",
       "\n",
       "    .dataframe thead th {\n",
       "        text-align: right;\n",
       "    }\n",
       "</style>\n",
       "<table border=\"1\" class=\"dataframe\">\n",
       "  <thead>\n",
       "    <tr style=\"text-align: right;\">\n",
       "      <th></th>\n",
       "      <th>Financial_Stress=1</th>\n",
       "      <th>Financial_Stress=2</th>\n",
       "      <th>Financial_Stress=3</th>\n",
       "      <th>Financial_Stress=4</th>\n",
       "      <th>Financial_Stress=5</th>\n",
       "    </tr>\n",
       "  </thead>\n",
       "  <tbody>\n",
       "    <tr>\n",
       "      <th>Depression</th>\n",
       "      <td>1.0</td>\n",
       "      <td>1.077797</td>\n",
       "      <td>1.155594</td>\n",
       "      <td>1.233391</td>\n",
       "      <td>1.311188</td>\n",
       "    </tr>\n",
       "  </tbody>\n",
       "</table>\n",
       "</div>"
      ],
      "text/plain": [
       "            Financial_Stress=1  Financial_Stress=2  Financial_Stress=3  \\\n",
       "Depression                 1.0            1.077797            1.155594   \n",
       "\n",
       "            Financial_Stress=4  Financial_Stress=5  \n",
       "Depression            1.233391            1.311188  "
      ]
     },
     "execution_count": 123,
     "metadata": {},
     "output_type": "execute_result"
    }
   ],
   "source": [
    "compute_counterfactuals1(filepath, 'Financial_Stress')"
   ]
  },
  {
   "cell_type": "code",
   "execution_count": null,
   "id": "9bb9d461",
   "metadata": {},
   "outputs": [],
   "source": []
  }
 ],
 "metadata": {
  "kernelspec": {
   "display_name": "Python 3 (ipykernel)",
   "language": "python",
   "name": "python3"
  },
  "language_info": {
   "codemirror_mode": {
    "name": "ipython",
    "version": 3
   },
   "file_extension": ".py",
   "mimetype": "text/x-python",
   "name": "python",
   "nbconvert_exporter": "python",
   "pygments_lexer": "ipython3",
   "version": "3.9.18"
  }
 },
 "nbformat": 4,
 "nbformat_minor": 5
}
