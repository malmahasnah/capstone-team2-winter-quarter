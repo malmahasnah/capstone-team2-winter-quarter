{
 "cells": [
  {
   "cell_type": "code",
   "execution_count": null,
   "id": "b88bd7e6",
   "metadata": {},
   "outputs": [],
   "source": [
    "import pandas as pd\n",
    "import numpy as np\n",
    "import networkx as nx\n",
    "import matplotlib.pyplot as plt\n",
    "from causallearn.search.ConstraintBased.PC import pc\n",
    "from dowhy import gcm"
   ]
  },
  {
   "cell_type": "code",
   "execution_count": 2,
   "id": "3ebb7987",
   "metadata": {},
   "outputs": [],
   "source": [
    "def load_and_preprocess_data(file_path, selected_columns=None):\n",
    "    df = pd.read_csv(file_path)\n",
    "    df = df.replace({'Yes': 1, 'No': 0})\n",
    "    df = df.dropna()\n",
    "    data_encoded = pd.get_dummies(df, drop_first=True, dtype=int)\n",
    "\n",
    "    if selected_columns:\n",
    "        data_encoded = data_encoded[selected_columns]\n",
    "    \n",
    "    return data_encoded, data_encoded.to_numpy()"
   ]
  },
  {
   "cell_type": "code",
   "execution_count": 8,
   "id": "a3422177",
   "metadata": {},
   "outputs": [],
   "source": []
  },
  {
   "cell_type": "code",
   "execution_count": null,
   "id": "2cb3916a",
   "metadata": {},
   "outputs": [],
   "source": [
    "def compute_counterfactuals1(file_path, intervention_var):\n",
    "    df = pd.read_csv(file_path).dropna()\n",
    "    df = df.replace({'Yes': 1, 'No': 0})\n",
    "    data_encoded = pd.get_dummies(df, drop_first=True, dtype=int)\n",
    "\n",
    "    selected_columns = ['Academic_Pressure', 'Suicidal_Thoughts',\n",
    "                        'Financial_Stress', 'Depression']\n",
    "    \n",
    "    if intervention_var not in selected_columns:\n",
    "        raise ValueError(f\"Invalid intervention variable. Choose from: {selected_columns}\")\n",
    "\n",
    "    # Prompt user for observed values (excluding 'Depression')\n",
    "    observed_data = {}\n",
    "    print(f\"\\nPlease enter observed values for the following variables (excluding '{intervention_var}' and 'Depression'):\")\n",
    "    \n",
    "    if(intervention_var) == \"Academic_Pressure\":\n",
    "        observed_data[intervention_var] = 5\n",
    "    else: \n",
    "        observed_data[intervention_var] = 1\n",
    "    observed_data['Depression'] = 1\n",
    "    \n",
    "    for var in selected_columns:\n",
    "            if var != intervention_var and var != 'Depression':  # Skip Depression\n",
    "                while True:\n",
    "                    try:\n",
    "                        if var == 'Academic_Pressure' or var == 'Financial_Stress':\n",
    "                            value = int(input(f\"  {var} (1-5): \"))\n",
    "                            if value < 1 or value > 5:\n",
    "                                print(\"Invalid input. Please enter a value between 1 and 5.\")\n",
    "                                continue\n",
    "                        elif var == 'Suicidal_Thoughts':\n",
    "                            value = int(input(f\"  {var} (0-1): \"))\n",
    "                            if value < 0 or value > 1:\n",
    "                                print(\"Invalid input. Please enter a value between 0 and 1.\")\n",
    "                                continue\n",
    "\n",
    "                        observed_data[var] = value\n",
    "                        break\n",
    "                    except ValueError:\n",
    "                        print(\"Invalid input. Please enter a numeric value.\")\n",
    "                        \n",
    "    # Convert observed values into DataFrame (without Depression)\n",
    "    observed_data_df = pd.DataFrame([observed_data])\n",
    "\n",
    "    # Construct causal model\n",
    "    causal_model = gcm.InvertibleStructuralCausalModel(nx.DiGraph([\n",
    "                                        ('Financial_Stress', 'Depression'),\n",
    "                                        ('Suicidal_Thoughts', 'Depression'),\n",
    "                                        ('Academic_Pressure', 'Depression')\n",
    "                                        ])\n",
    "                                        )\n",
    "    causal_model.set_causal_mechanism('Financial_Stress', gcm.EmpiricalDistribution())\n",
    "    causal_model.set_causal_mechanism('Suicidal_Thoughts', \n",
    "                                      gcm.EmpiricalDistribution())\n",
    "    causal_model.set_causal_mechanism('Academic_Pressure', gcm.EmpiricalDistribution())\n",
    "    causal_model.set_causal_mechanism('Depression', \n",
    "                                      gcm.AdditiveNoiseModel(\n",
    "                                          gcm.ml.create_linear_regressor()))\n",
    "        \n",
    "    # Train model\n",
    "    training_data = pd.DataFrame(data=dict(\n",
    "    **{'Financial_Stress': data_encoded['Financial Stress']},\n",
    "    **{'Suicidal_Thoughts': data_encoded['Have you ever had suicidal thoughts ?']},\n",
    "    **{'Academic_Pressure': data_encoded['Academic Pressure']},\n",
    "    **{'Depression': data_encoded['Depression']}\n",
    "    ))\n",
    "    \n",
    "    gcm.fit(causal_model, training_data)\n",
    "\n",
    "    \n",
    "    # Dynamically set the range of values for the intervention variable\n",
    "    if intervention_var == 'Suicidal_Thoughts':\n",
    "        intervention_range = [0, 1]  # Only 0 or 1 for Suicidal Thoughts\n",
    "    elif intervention_var == 'Academic_Pressure' or intervention_var == 'Financial_Stress':\n",
    "        intervention_range = range(1, 6)  # 1-5 for Academic Pressure and Financial Stress\n",
    "    else:\n",
    "        raise ValueError(f\"Unsupported intervention variable: {intervention_var}\")\n",
    "    \n",
    "    # Generate counterfactuals for different intervention values\n",
    "    print(f\"\\nIntervening on '{intervention_var}' with different values...\")\n",
    "    \n",
    "    counterfactual_results = {}\n",
    "    for value in intervention_range:  \n",
    "        result = gcm.counterfactual_samples(\n",
    "            causal_model,\n",
    "            {intervention_var: lambda x: value},  \n",
    "            observed_data=observed_data_df\n",
    "        )\n",
    "\n",
    "        counterfactual_results[f\"{intervention_var}={value}\"] = result['Depression'].values[0]\n",
    "    # Display results\n",
    "    counterfactual_df = pd.DataFrame(counterfactual_results, index=['Depression'])\n",
    "    print(\"\\nCounterfactual Results:\")\n",
    "    print(counterfactual_df)\n",
    "\n",
    "    return counterfactual_df\n"
   ]
  },
  {
   "cell_type": "code",
   "execution_count": null,
   "id": "6fa82365",
   "metadata": {},
   "outputs": [],
   "source": [
    "filepath = '../../data/Student Depression Dataset.csv'"
   ]
  },
  {
   "cell_type": "code",
   "execution_count": 138,
   "id": "6e0e4117",
   "metadata": {},
   "outputs": [
    {
     "name": "stdout",
     "output_type": "stream",
     "text": [
      "\n",
      "Please enter observed values for the following variables (excluding 'Academic_Pressure' and 'Depression'):\n",
      "  Suicidal_Thoughts (0-1): 0\n",
      "  Financial_Stress (1-5): 3\n"
     ]
    },
    {
     "name": "stderr",
     "output_type": "stream",
     "text": [
      "Fitting causal mechanism of node Academic_Pressure: 100%|███████████████████████████████| 4/4 [00:00<00:00, 571.63it/s]"
     ]
    },
    {
     "name": "stdout",
     "output_type": "stream",
     "text": [
      "\n",
      "Intervening on 'Academic_Pressure' with different values...\n",
      "\n",
      "Counterfactual Results:\n",
      "            Academic_Pressure=1  Academic_Pressure=2  Academic_Pressure=3  \\\n",
      "Depression                  1.0              1.11864              1.23728   \n",
      "\n",
      "            Academic_Pressure=4  Academic_Pressure=5  \n",
      "Depression             1.355919             1.474559  \n"
     ]
    },
    {
     "name": "stderr",
     "output_type": "stream",
     "text": [
      "\n"
     ]
    },
    {
     "data": {
      "text/html": [
       "<div>\n",
       "<style scoped>\n",
       "    .dataframe tbody tr th:only-of-type {\n",
       "        vertical-align: middle;\n",
       "    }\n",
       "\n",
       "    .dataframe tbody tr th {\n",
       "        vertical-align: top;\n",
       "    }\n",
       "\n",
       "    .dataframe thead th {\n",
       "        text-align: right;\n",
       "    }\n",
       "</style>\n",
       "<table border=\"1\" class=\"dataframe\">\n",
       "  <thead>\n",
       "    <tr style=\"text-align: right;\">\n",
       "      <th></th>\n",
       "      <th>Academic_Pressure=1</th>\n",
       "      <th>Academic_Pressure=2</th>\n",
       "      <th>Academic_Pressure=3</th>\n",
       "      <th>Academic_Pressure=4</th>\n",
       "      <th>Academic_Pressure=5</th>\n",
       "    </tr>\n",
       "  </thead>\n",
       "  <tbody>\n",
       "    <tr>\n",
       "      <th>Depression</th>\n",
       "      <td>1.0</td>\n",
       "      <td>1.11864</td>\n",
       "      <td>1.23728</td>\n",
       "      <td>1.355919</td>\n",
       "      <td>1.474559</td>\n",
       "    </tr>\n",
       "  </tbody>\n",
       "</table>\n",
       "</div>"
      ],
      "text/plain": [
       "            Academic_Pressure=1  Academic_Pressure=2  Academic_Pressure=3  \\\n",
       "Depression                  1.0              1.11864              1.23728   \n",
       "\n",
       "            Academic_Pressure=4  Academic_Pressure=5  \n",
       "Depression             1.355919             1.474559  "
      ]
     },
     "execution_count": 138,
     "metadata": {},
     "output_type": "execute_result"
    }
   ],
   "source": [
    "compute_counterfactuals1(filepath, 'Academic_Pressure')"
   ]
  },
  {
   "cell_type": "code",
   "execution_count": 141,
   "id": "e65085b2",
   "metadata": {},
   "outputs": [
    {
     "name": "stdout",
     "output_type": "stream",
     "text": [
      "\n",
      "Please enter observed values for the following variables (excluding 'Academic_Pressure' and 'Depression'):\n",
      "  Suicidal_Thoughts (0-1): 0\n",
      "  Financial_Stress (1-5): 3\n"
     ]
    },
    {
     "name": "stderr",
     "output_type": "stream",
     "text": [
      "Fitting causal mechanism of node Academic_Pressure: 100%|███████████████████████████████| 4/4 [00:00<00:00, 499.95it/s]"
     ]
    },
    {
     "name": "stdout",
     "output_type": "stream",
     "text": [
      "\n",
      "Intervening on 'Academic_Pressure' with different values...\n",
      "\n",
      "Counterfactual Results:\n",
      "            Academic_Pressure=1  Academic_Pressure=2  Academic_Pressure=3  \\\n",
      "Depression                  1.0              1.11864              1.23728   \n",
      "\n",
      "            Academic_Pressure=4  Academic_Pressure=5  \n",
      "Depression             1.355919             1.474559  \n"
     ]
    },
    {
     "name": "stderr",
     "output_type": "stream",
     "text": [
      "\n"
     ]
    },
    {
     "data": {
      "text/html": [
       "<div>\n",
       "<style scoped>\n",
       "    .dataframe tbody tr th:only-of-type {\n",
       "        vertical-align: middle;\n",
       "    }\n",
       "\n",
       "    .dataframe tbody tr th {\n",
       "        vertical-align: top;\n",
       "    }\n",
       "\n",
       "    .dataframe thead th {\n",
       "        text-align: right;\n",
       "    }\n",
       "</style>\n",
       "<table border=\"1\" class=\"dataframe\">\n",
       "  <thead>\n",
       "    <tr style=\"text-align: right;\">\n",
       "      <th></th>\n",
       "      <th>Academic_Pressure=1</th>\n",
       "      <th>Academic_Pressure=2</th>\n",
       "      <th>Academic_Pressure=3</th>\n",
       "      <th>Academic_Pressure=4</th>\n",
       "      <th>Academic_Pressure=5</th>\n",
       "    </tr>\n",
       "  </thead>\n",
       "  <tbody>\n",
       "    <tr>\n",
       "      <th>Depression</th>\n",
       "      <td>1.0</td>\n",
       "      <td>1.11864</td>\n",
       "      <td>1.23728</td>\n",
       "      <td>1.355919</td>\n",
       "      <td>1.474559</td>\n",
       "    </tr>\n",
       "  </tbody>\n",
       "</table>\n",
       "</div>"
      ],
      "text/plain": [
       "            Academic_Pressure=1  Academic_Pressure=2  Academic_Pressure=3  \\\n",
       "Depression                  1.0              1.11864              1.23728   \n",
       "\n",
       "            Academic_Pressure=4  Academic_Pressure=5  \n",
       "Depression             1.355919             1.474559  "
      ]
     },
     "execution_count": 141,
     "metadata": {},
     "output_type": "execute_result"
    }
   ],
   "source": [
    "compute_counterfactuals1(filepath, 'Academic_Pressure')"
   ]
  },
  {
   "cell_type": "code",
   "execution_count": null,
   "id": "050c8408",
   "metadata": {},
   "outputs": [],
   "source": []
  }
 ],
 "metadata": {
  "kernelspec": {
   "display_name": "Python 3 (ipykernel)",
   "language": "python",
   "name": "python3"
  },
  "language_info": {
   "codemirror_mode": {
    "name": "ipython",
    "version": 3
   },
   "file_extension": ".py",
   "mimetype": "text/x-python",
   "name": "python",
   "nbconvert_exporter": "python",
   "pygments_lexer": "ipython3",
   "version": "3.9.18"
  }
 },
 "nbformat": 4,
 "nbformat_minor": 5
}
